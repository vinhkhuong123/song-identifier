{
  "nbformat": 4,
  "nbformat_minor": 0,
  "metadata": {
    "colab": {
      "provenance": []
    },
    "kernelspec": {
      "name": "python3",
      "display_name": "Python 3"
    },
    "language_info": {
      "name": "python"
    }
  },
  "cells": [
    {
      "cell_type": "code",
      "execution_count": 1,
      "metadata": {
        "id": "DhM4JMMsBGlf"
      },
      "outputs": [],
      "source": [
        "from google.colab import drive\n",
        "from tensorflow import keras\n",
        "import tensorflow as tf\n",
        "import numpy as np\n",
        "import os\n",
        "import matplotlib.pyplot as plt\n",
        "\n",
        "from sklearn.metrics import accuracy_score\n",
        "from sklearn.metrics import classification_report\n",
        "from sklearn.metrics import confusion_matrix\n",
        "from sklearn.model_selection import train_test_split"
      ]
    },
    {
      "cell_type": "code",
      "source": [
        "import librosa"
      ],
      "metadata": {
        "id": "sfPMALM_I53V"
      },
      "execution_count": 2,
      "outputs": []
    },
    {
      "cell_type": "code",
      "source": [
        "from google.colab import drive"
      ],
      "metadata": {
        "id": "784lA9J4COQe"
      },
      "execution_count": 3,
      "outputs": []
    },
    {
      "cell_type": "code",
      "source": [
        "drive.mount('/content/drive/')\n"
      ],
      "metadata": {
        "colab": {
          "base_uri": "https://localhost:8080/"
        },
        "id": "xk7sl06KD1bv",
        "outputId": "14fbc26b-bdf1-4460-a653-4d37ad2cdde1"
      },
      "execution_count": 4,
      "outputs": [
        {
          "output_type": "stream",
          "name": "stdout",
          "text": [
            "Mounted at /content/drive/\n"
          ]
        }
      ]
    },
    {
      "cell_type": "code",
      "source": [
        "DATA_PATH = './drive/MyDrive/CDTN/songvn'"
      ],
      "metadata": {
        "id": "l3iEvdZQCQyn"
      },
      "execution_count": 5,
      "outputs": []
    },
    {
      "cell_type": "code",
      "source": [
        "def extract_melspectrogram(audio_path, n_mels=128):\n",
        "    # Load audio file\n",
        "    y, sr = librosa.load(audio_path, sr=None)\n",
        "\n",
        "    # Extract Mel-spectrogram\n",
        "    mel_spec = librosa.feature.melspectrogram(y=y, sr=sr, n_mels=n_mels)\n",
        "\n",
        "    # Convert to decibels (log scale)\n",
        "    mel_spec_db = librosa.power_to_db(mel_spec, ref=np.max)\n",
        "\n",
        "    return mel_spec_db"
      ],
      "metadata": {
        "id": "jXkMZo_zCWyH"
      },
      "execution_count": null,
      "outputs": []
    },
    {
      "cell_type": "code",
      "source": [
        "parent_folder = './drive/MyDrive/CDTN/songvn'\n",
        "output_folder = './drive/MyDrive/CDTN/mel_spectrograms'"
      ],
      "metadata": {
        "id": "91paEz77Qiuy"
      },
      "execution_count": null,
      "outputs": []
    },
    {
      "cell_type": "code",
      "source": [
        "import os\n",
        "import librosa\n",
        "\n",
        "\n",
        "def extract_features_from_folder(parent_folder, output_folder):\n",
        "    genres = os.listdir(parent_folder)\n",
        "    for genre in genres:\n",
        "        genre_folder = os.path.join(parent_folder, genre)\n",
        "        if not os.path.isdir(genre_folder):\n",
        "            continue\n",
        "\n",
        "        # Tạo thư mục đầu ra cho thể loại hiện tại nếu nó chưa tồn tại\n",
        "        output_genre_folder = os.path.join(output_folder, genre)\n",
        "        os.makedirs(output_genre_folder, exist_ok=True)\n",
        "\n",
        "        # Duyệt qua các tệp âm thanh trong thư mục thể loại hiện tại\n",
        "        for filename in os.listdir(genre_folder):\n",
        "            if filename.endswith('.wav'):\n",
        "                # Đường dẫn đến tệp âm thanh đầy đủ\n",
        "                audio_path = os.path.join(genre_folder, filename)\n",
        "\n",
        "                # Trích xuất đặc trưng từ tệp âm thanh\n",
        "                mel_spec = extract_melspectrogram(audio_path)\n",
        "\n",
        "                # Lưu đặc trưng vào tệp numpy\n",
        "                output_filename = os.path.splitext(filename)[0] + '.npy'\n",
        "                output_file_path = os.path.join(output_genre_folder, output_filename)\n",
        "                np.save(output_file_path, mel_spec)\n",
        "\n",
        "def extract_melspectrogram(audio_path, n_mels=128):\n",
        "    # Load file âm thanh\n",
        "    y, sr = librosa.load(audio_path, sr=None)\n",
        "\n",
        "    # Trích xuất Mel-spectrogram\n",
        "    mel_spec = librosa.feature.melspectrogram(y=y, sr=sr, n_mels=n_mels)\n",
        "\n",
        "    # Chuyển đổi sang đơn vị dB (log scale)\n",
        "    mel_spec_db = librosa.power_to_db(mel_spec, ref=np.max)\n",
        "\n",
        "    return mel_spec_db\n",
        "\n",
        "# Sử dụng hàm để trích xuất đặc trưng từ thư mục songvn\n",
        "\n",
        "\n",
        "extract_features_from_folder(parent_folder, output_folder)\n"
      ],
      "metadata": {
        "id": "5_mN-95LDEmf"
      },
      "execution_count": null,
      "outputs": []
    },
    {
      "cell_type": "code",
      "source": [
        "import numpy as np\n",
        "import matplotlib.pyplot as plt\n",
        "import os\n",
        "\n",
        "# Đọc dữ liệu từ các tệp .npy\n",
        "def load_data_from_npy_folder(folder):\n",
        "    images = []\n",
        "    labels = []\n",
        "\n",
        "    genres = os.listdir(folder)\n",
        "    class_to_int = {genre: idx for idx, genre in enumerate(genres)}\n",
        "\n",
        "    for genre in genres:\n",
        "        genre_folder = os.path.join(folder, genre)\n",
        "        if not os.path.isdir(genre_folder):\n",
        "            continue\n",
        "        class_label = class_to_int[genre]\n",
        "        for filename in os.listdir(genre_folder):\n",
        "            if filename.endswith('.npy'):\n",
        "                file_path = os.path.join(genre_folder, filename)\n",
        "                data = np.load(file_path)\n",
        "                images.append(data)\n",
        "                labels.append(class_label)\n",
        "\n",
        "    return np.array(images), np.array(labels)\n",
        "\n",
        "# Chuyển đổi dữ liệu thành hình ảnh PNG và lưu lại\n",
        "def convert_to_png(images, labels, output_folder):\n",
        "    unique_labels = np.unique(labels)\n",
        "\n",
        "    for label in unique_labels:\n",
        "        label_folder = os.path.join(output_folder, str(label))\n",
        "        os.makedirs(label_folder, exist_ok=True)\n",
        "\n",
        "        label_images = images[labels == label]\n",
        "        for i, image in enumerate(label_images):\n",
        "            output_path = os.path.join(label_folder, f'image_{i}.png')\n",
        "            plt.imshow(image, cmap='viridis', origin='lower')\n",
        "            plt.axis('off')\n",
        "            plt.savefig(output_path, bbox_inches='tight', pad_inches=0)\n",
        "            plt.close()\n",
        "\n",
        "# Đường dẫn đến thư mục chứa các tệp .npy\n",
        "input_folder_npy = './drive/MyDrive/CDTN/mel_spectrograms'\n",
        "\n",
        "# Đọc dữ liệu từ các tệp .npy\n",
        "X_train, y_train = load_data_from_npy_folder(input_folder_npy)\n",
        "\n",
        "# Đường dẫn đến thư mục chứa hình ảnh PNG đầu ra\n",
        "output_folder_png = './drive/MyDrive/CDTN/mel_spectrograms_png'\n",
        "\n",
        "# Chuyển đổi dữ liệu thành hình ảnh PNG và lưu lại\n",
        "convert_to_png(X_train, y_train, output_folder_png)\n"
      ],
      "metadata": {
        "id": "59JNFay-KVcM"
      },
      "execution_count": null,
      "outputs": []
    },
    {
      "cell_type": "code",
      "source": [
        "# Normalize data\n",
        "X_train = X_train / 255.0"
      ],
      "metadata": {
        "id": "xMNFcz3DNtXb"
      },
      "execution_count": null,
      "outputs": []
    },
    {
      "cell_type": "code",
      "source": [
        "X_train.shape"
      ],
      "metadata": {
        "colab": {
          "base_uri": "https://localhost:8080/"
        },
        "id": "Ias0DCfaVBMk",
        "outputId": "b88f7634-6152-4700-89c4-3588725fad7b"
      },
      "execution_count": null,
      "outputs": [
        {
          "output_type": "execute_result",
          "data": {
            "text/plain": [
              "(15, 128, 782)"
            ]
          },
          "metadata": {},
          "execution_count": 34
        }
      ]
    },
    {
      "cell_type": "code",
      "source": [
        "X_train = tf.expand_dims(X_train, axis=-1)"
      ],
      "metadata": {
        "id": "_LdBh9xUVNlr"
      },
      "execution_count": null,
      "outputs": []
    },
    {
      "cell_type": "code",
      "source": [
        "# Define model architecture\n",
        "model = tf.keras.models.Sequential([\n",
        "    # First convolution\n",
        "    tf.keras.layers.Conv2D(16, (3,3), activation='relu', input_shape=X_train.shape[1:]),\n",
        "    tf.keras.layers.MaxPooling2D(2, 2),\n",
        "    # Second convolution\n",
        "    tf.keras.layers.Conv2D(32, (3,3), activation='relu'),\n",
        "    tf.keras.layers.MaxPooling2D(2,2),\n",
        "    # Third convolution\n",
        "    tf.keras.layers.Conv2D(64, (3,3), activation='relu'),\n",
        "    tf.keras.layers.MaxPooling2D(2,2),\n",
        "    # Fourth convolution\n",
        "    tf.keras.layers.Conv2D(64, (3,3), activation='relu'),\n",
        "    tf.keras.layers.MaxPooling2D(2,2),\n",
        "    tf.keras.layers.Flatten(),\n",
        "    tf.keras.layers.Dropout(0.2),\n",
        "    tf.keras.layers.Dense(256, activation='relu'),\n",
        "    tf.keras.layers.Dense(128, activation='relu'),\n",
        "    tf.keras.layers.Dense(len(np.unique(y_train)), activation='softmax')\n",
        "])\n"
      ],
      "metadata": {
        "id": "eWNSvag5NoZr"
      },
      "execution_count": null,
      "outputs": []
    },
    {
      "cell_type": "code",
      "source": [
        "\n",
        "\n",
        "\n",
        "# Compile the model\n",
        "model.compile(optimizer='adam',\n",
        "              loss='sparse_categorical_crossentropy',\n",
        "              metrics=['accuracy'])\n",
        "\n",
        "# Train the model\n",
        "model.fit(X_train, y_train, epochs=10, batch_size=32, validation_split=0.2)"
      ],
      "metadata": {
        "colab": {
          "base_uri": "https://localhost:8080/"
        },
        "id": "HYAnVBEkB91W",
        "outputId": "3bbe8c3a-1679-446a-a18e-9fb3b0cb8c98"
      },
      "execution_count": null,
      "outputs": [
        {
          "output_type": "stream",
          "name": "stdout",
          "text": [
            "Epoch 1/10\n",
            "1/1 [==============================] - 6s 6s/step - loss: 1.0753 - accuracy: 0.4167 - val_loss: 60.6752 - val_accuracy: 0.0000e+00\n",
            "Epoch 2/10\n",
            "1/1 [==============================] - 1s 1s/step - loss: 15.4152 - accuracy: 0.4167 - val_loss: 40.9651 - val_accuracy: 0.0000e+00\n",
            "Epoch 3/10\n",
            "1/1 [==============================] - 1s 1s/step - loss: 25.5047 - accuracy: 0.4167 - val_loss: 10.9325 - val_accuracy: 0.0000e+00\n",
            "Epoch 4/10\n",
            "1/1 [==============================] - 1s 1s/step - loss: 8.5734 - accuracy: 0.4167 - val_loss: 1.3811 - val_accuracy: 0.0000e+00\n",
            "Epoch 5/10\n",
            "1/1 [==============================] - 1s 1s/step - loss: 1.1321 - accuracy: 0.4167 - val_loss: 2.3482 - val_accuracy: 0.0000e+00\n",
            "Epoch 6/10\n",
            "1/1 [==============================] - 1s 1s/step - loss: 1.6995 - accuracy: 0.4167 - val_loss: 1.5020 - val_accuracy: 0.0000e+00\n",
            "Epoch 7/10\n",
            "1/1 [==============================] - 1s 1s/step - loss: 1.2492 - accuracy: 0.4167 - val_loss: 0.9855 - val_accuracy: 0.3333\n",
            "Epoch 8/10\n",
            "1/1 [==============================] - 1s 1s/step - loss: 1.1263 - accuracy: 0.3333 - val_loss: 1.6842 - val_accuracy: 0.0000e+00\n",
            "Epoch 9/10\n",
            "1/1 [==============================] - 1s 1s/step - loss: 0.9690 - accuracy: 0.4167 - val_loss: 2.3439 - val_accuracy: 0.0000e+00\n",
            "Epoch 10/10\n",
            "1/1 [==============================] - 2s 2s/step - loss: 0.9512 - accuracy: 0.4167 - val_loss: 1.5074 - val_accuracy: 0.0000e+00\n"
          ]
        },
        {
          "output_type": "execute_result",
          "data": {
            "text/plain": [
              "<keras.src.callbacks.History at 0x7e7a67880130>"
            ]
          },
          "metadata": {},
          "execution_count": 37
        }
      ]
    },
    {
      "cell_type": "markdown",
      "source": [
        "**Phần sửa lại**"
      ],
      "metadata": {
        "id": "LFyaHrj8LDLt"
      }
    },
    {
      "cell_type": "code",
      "source": [
        "import os\n",
        "import librosa as lb\n",
        "import numpy as np\n",
        "import matplotlib.pyplot as plt\n",
        "from sklearn.model_selection import train_test_split\n",
        "\n",
        "class Preprocessing():\n",
        "    def __init__(self, data_path, save_path):\n",
        "        self.data_path = data_path\n",
        "        self.save_path = save_path\n",
        "        self.samples = {}\n",
        "\n",
        "    def _load_samples(self):\n",
        "        for genre in os.listdir(self.data_path):\n",
        "            genre_path = os.path.join(self.data_path, genre)\n",
        "            if os.path.isdir(genre_path):\n",
        "                for file in os.listdir(genre_path):\n",
        "                    if file.endswith('.wav'):\n",
        "                        file_path = os.path.join(genre_path, file)\n",
        "                        self.samples[file] = {'dir': file_path, 'genre': genre}\n",
        "        return self.samples\n",
        "\n",
        "    def _process_samples(self):\n",
        "        for name, info in self.samples.items():\n",
        "            file, sr = lb.load(info['dir'])\n",
        "            self.samples[name]['sampling'] = file\n",
        "            D = np.abs(lb.stft(file))\n",
        "            self.samples[name]['stft'] = D\n",
        "            S = lb.feature.melspectrogram(y=file, sr=sr)\n",
        "            S_db = lb.amplitude_to_db(S, ref=np.max)\n",
        "            self.samples[name]['mel-spec-db'] = S_db\n",
        "        return self.samples\n",
        "\n",
        "    def _save_mel_spec(self):\n",
        "        for name, info in self.samples.items():\n",
        "            S_db = info['mel-spec-db']\n",
        "            genre = info['genre']\n",
        "            file_name = os.path.splitext(name)[0]\n",
        "            save_folder = os.path.join(self.save_path, genre)\n",
        "            if not os.path.exists(save_folder):\n",
        "                os.makedirs(save_folder)\n",
        "                print(\"Created new folder:\", save_folder)\n",
        "            plt.imsave(os.path.join(save_folder, f\"{file_name}.png\"), S_db)\n",
        "            print(f\"Saved {file_name}.png\")\n",
        "\n",
        "if __name__ == \"__main__\":\n",
        "    DATA_PATH = './drive/MyDrive/CDTN/songvn'\n",
        "    SAVE_PATH = './drive/MyDrive/CDTN/save_folder'  # Thay đổi đường dẫn tới thư mục lưu hình ảnh mel-spectrogram\n",
        "\n",
        "    preprocessor = Preprocessing(data_path=DATA_PATH, save_path=SAVE_PATH)\n",
        "    preprocessor._load_samples()\n",
        "    preprocessor._process_samples()\n",
        "    preprocessor._save_mel_spec()\n"
      ],
      "metadata": {
        "colab": {
          "base_uri": "https://localhost:8080/"
        },
        "id": "bs1bIYsu-AAp",
        "outputId": "6aa0f947-d5e3-4f08-b65b-9b0aa2fc8e13"
      },
      "execution_count": 7,
      "outputs": [
        {
          "output_type": "stream",
          "name": "stdout",
          "text": [
            "Created new folder: ./drive/MyDrive/CDTN/save_folder/cailuong\n",
            "Saved shortened_cailuong_5.png\n",
            "Saved shortened_cailuong_2.png\n",
            "Saved shortened_cailuong_3.png\n",
            "Saved shortened_cailuong_4.png\n",
            "Saved shortened_cailuong_1.png\n",
            "Created new folder: ./drive/MyDrive/CDTN/save_folder/cheo\n",
            "Saved shortened_cheo_4.png\n",
            "Saved shortened_cheo_2.png\n",
            "Saved shortened_cheo_5.png\n",
            "Saved shortened_cheo_3.png\n",
            "Saved shortened_cheo_1.png\n",
            "Created new folder: ./drive/MyDrive/CDTN/save_folder/quanho\n",
            "Saved shortened_audio_3.png\n",
            "Saved shortened_audio_2.png\n",
            "Saved shortened_audio_5.png\n",
            "Saved shortened_audio_4.png\n",
            "Saved shortened_audio_1.png\n"
          ]
        }
      ]
    },
    {
      "cell_type": "code",
      "source": [
        "data_path = './drive/MyDrive/CDTN/save_folder'"
      ],
      "metadata": {
        "id": "Ys8y5Ib9EXrf"
      },
      "execution_count": 9,
      "outputs": []
    },
    {
      "cell_type": "code",
      "source": [
        "import tensorflow as tf\n",
        "from tensorflow.keras.preprocessing.image import ImageDataGenerator\n",
        "# Tạo generator cho dữ liệu huấn luyện\n",
        "train_datagen = ImageDataGenerator(\n",
        "    rescale=1./255,  # Tái tổ chức biểu đồ màu từ [0, 255] sang [0, 1]\n",
        "    validation_split=0.2  # Phân chia dữ liệu thành tập huấn luyện và tập validation\n",
        ")\n",
        "\n",
        "# Tạo generator cho tập huấn luyện\n",
        "train_generator = train_datagen.flow_from_directory(\n",
        "    data_path,\n",
        "    batch_size=32,\n",
        "    target_size=(128,1292),\n",
        "    class_mode='categorical',  # Sử dụng one-hot encoding cho nhãn\n",
        "    subset='training'  # Sử dụng phần dữ liệu huấn luyện\n",
        ")\n",
        "\n",
        "# Tạo generator cho tập validation\n",
        "validation_generator = train_datagen.flow_from_directory(\n",
        "    data_path,\n",
        "    batch_size=32,\n",
        "    target_size=(128,1292),\n",
        "    class_mode='categorical',\n",
        "    subset='validation'  # Sử dụng phần dữ liệu validation\n",
        ")\n",
        "\n",
        "# Tiếp theo, bạn có thể sử dụng train_generator và validation_generator để huấn luyện mô hình."
      ],
      "metadata": {
        "colab": {
          "base_uri": "https://localhost:8080/"
        },
        "id": "VtghaPvq_Lan",
        "outputId": "ca097f63-c3d2-4e4d-bbd1-83c62840ea1b"
      },
      "execution_count": 21,
      "outputs": [
        {
          "output_type": "stream",
          "name": "stdout",
          "text": [
            "Found 12 images belonging to 3 classes.\n",
            "Found 3 images belonging to 3 classes.\n"
          ]
        }
      ]
    },
    {
      "cell_type": "code",
      "source": [
        "import cv2\n",
        "# Đường dẫn đến thư mục chứa dữ liệu\n",
        "data_path = './drive/MyDrive/CDTN/save_folder'\n",
        "\n",
        "# Lặp qua tất cả các tệp ảnh trong thư mục\n",
        "for folder in os.listdir(data_path):\n",
        "    folder_path = os.path.join(data_path, folder)\n",
        "    if os.path.isdir(folder_path):\n",
        "        for file in os.listdir(folder_path):\n",
        "            if file.endswith('.png'):\n",
        "                img_path = os.path.join(folder_path, file)\n",
        "                # Đọc ảnh bằng OpenCV\n",
        "                img = cv2.imread(img_path)\n",
        "                # Lấy kích thước của ảnh\n",
        "                height, width, _ = img.shape\n",
        "                print(f\"Kích thước ảnh '{file}': {width}x{height}\")"
      ],
      "metadata": {
        "colab": {
          "base_uri": "https://localhost:8080/"
        },
        "id": "O6mVFOq9HOCe",
        "outputId": "045ef8e4-a5bb-42c4-daac-f0e62ad64482"
      },
      "execution_count": 22,
      "outputs": [
        {
          "output_type": "stream",
          "name": "stdout",
          "text": [
            "Kích thước ảnh 'shortened_cailuong_5.png': 2154x128\n",
            "Kích thước ảnh 'shortened_cailuong_2.png': 2154x128\n",
            "Kích thước ảnh 'shortened_cailuong_3.png': 2154x128\n",
            "Kích thước ảnh 'shortened_cailuong_4.png': 2154x128\n",
            "Kích thước ảnh 'shortened_cailuong_1.png': 2154x128\n",
            "Kích thước ảnh 'shortened_cheo_4.png': 2154x128\n",
            "Kích thước ảnh 'shortened_cheo_2.png': 2154x128\n",
            "Kích thước ảnh 'shortened_cheo_5.png': 2154x128\n",
            "Kích thước ảnh 'shortened_cheo_3.png': 2154x128\n",
            "Kích thước ảnh 'shortened_cheo_1.png': 2154x128\n",
            "Kích thước ảnh 'shortened_audio_3.png': 2154x128\n",
            "Kích thước ảnh 'shortened_audio_2.png': 2154x128\n",
            "Kích thước ảnh 'shortened_audio_5.png': 2154x128\n",
            "Kích thước ảnh 'shortened_audio_4.png': 2154x128\n",
            "Kích thước ảnh 'shortened_audio_1.png': 2154x128\n"
          ]
        }
      ]
    },
    {
      "cell_type": "code",
      "source": [
        "model1 = tf.keras.models.Sequential([\n",
        "        #first_convolution\n",
        "        tf.keras.layers.Conv2D(16, (3,3), activation='relu', input_shape=(128, 1292, 3)),\n",
        "        tf.keras.layers.MaxPooling2D(2, 2),\n",
        "        #second_convolution\n",
        "        tf.keras.layers.Conv2D(32, (3,3), activation='relu'),\n",
        "        tf.keras.layers.MaxPooling2D(2,2),\n",
        "        #third_convolution\n",
        "        tf.keras.layers.Conv2D(64, (3,3), activation='relu'),\n",
        "        tf.keras.layers.MaxPooling2D(2,2),\n",
        "        #fourth_convolution\n",
        "        tf.keras.layers.Conv2D(64, (3,3), activation='relu'),\n",
        "        tf.keras.layers.MaxPooling2D(2,2),\n",
        "        tf.keras.layers.Flatten(),\n",
        "        tf.keras.layers.Dropout(0.2),\n",
        "        tf.keras.layers.Dense(256, activation='relu'),\n",
        "        tf.keras.layers.Dense(128, activation='relu'),\n",
        "        tf.keras.layers.Dense(3, activation='softmax')\n",
        "    ])"
      ],
      "metadata": {
        "id": "zDtt9xHaETh4"
      },
      "execution_count": 23,
      "outputs": []
    },
    {
      "cell_type": "code",
      "source": [
        "# Compile mô hình\n",
        "model1.compile(optimizer='adam',\n",
        "              loss='categorical_crossentropy',  # Sử dụng categorical crossentropy vì ta sử dụng one-hot encoding cho nhãn\n",
        "              metrics=['accuracy'])\n",
        "\n",
        "# Huấn luyện mô hình\n",
        "history = model1.fit(\n",
        "    train_generator,\n",
        "    validation_data=validation_generator,\n",
        "    epochs=10\n",
        ")\n"
      ],
      "metadata": {
        "colab": {
          "base_uri": "https://localhost:8080/"
        },
        "id": "dosNg5W9Hoqn",
        "outputId": "d7eaa995-ae4f-4936-9281-89c7f718e293"
      },
      "execution_count": 24,
      "outputs": [
        {
          "output_type": "stream",
          "name": "stdout",
          "text": [
            "Epoch 1/10\n",
            "1/1 [==============================] - 4s 4s/step - loss: 1.0986 - accuracy: 0.3333 - val_loss: 1.1927 - val_accuracy: 0.3333\n",
            "Epoch 2/10\n",
            "1/1 [==============================] - 2s 2s/step - loss: 1.1338 - accuracy: 0.3333 - val_loss: 1.3747 - val_accuracy: 0.3333\n",
            "Epoch 3/10\n",
            "1/1 [==============================] - 4s 4s/step - loss: 1.3556 - accuracy: 0.3333 - val_loss: 1.1252 - val_accuracy: 0.3333\n",
            "Epoch 4/10\n",
            "1/1 [==============================] - 3s 3s/step - loss: 1.1089 - accuracy: 0.3333 - val_loss: 1.1040 - val_accuracy: 0.3333\n",
            "Epoch 5/10\n",
            "1/1 [==============================] - 2s 2s/step - loss: 1.0715 - accuracy: 0.6667 - val_loss: 1.1117 - val_accuracy: 0.3333\n",
            "Epoch 6/10\n",
            "1/1 [==============================] - 2s 2s/step - loss: 1.0750 - accuracy: 0.3333 - val_loss: 1.1074 - val_accuracy: 0.3333\n",
            "Epoch 7/10\n",
            "1/1 [==============================] - 2s 2s/step - loss: 1.0605 - accuracy: 0.3333 - val_loss: 1.0991 - val_accuracy: 0.3333\n",
            "Epoch 8/10\n",
            "1/1 [==============================] - 3s 3s/step - loss: 1.0410 - accuracy: 1.0000 - val_loss: 1.0995 - val_accuracy: 0.3333\n",
            "Epoch 9/10\n",
            "1/1 [==============================] - 4s 4s/step - loss: 1.0149 - accuracy: 0.5833 - val_loss: 1.1004 - val_accuracy: 0.3333\n",
            "Epoch 10/10\n",
            "1/1 [==============================] - 2s 2s/step - loss: 0.9856 - accuracy: 0.5833 - val_loss: 1.1087 - val_accuracy: 0.0000e+00\n"
          ]
        }
      ]
    },
    {
      "cell_type": "code",
      "source": [],
      "metadata": {
        "id": "-mlkxsZnH-qZ"
      },
      "execution_count": null,
      "outputs": []
    }
  ]
}